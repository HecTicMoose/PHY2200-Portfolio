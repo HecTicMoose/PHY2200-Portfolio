{
 "cells": [
  {
   "cell_type": "code",
   "execution_count": 2,
   "metadata": {},
   "outputs": [
    {
     "data": {
      "text/html": [
       "<div id=\"glowscript\" class=\"glowscript\"></div>"
      ],
      "text/plain": [
       "<IPython.core.display.HTML object>"
      ]
     },
     "metadata": {},
     "output_type": "display_data"
    },
    {
     "data": {
      "application/javascript": [
       "if (typeof Jupyter !== \"undefined\") { window.__context = { glowscript_container: $(\"#glowscript\").removeAttr(\"id\")};}else{ element.textContent = ' ';}"
      ],
      "text/plain": [
       "<IPython.core.display.Javascript object>"
      ]
     },
     "metadata": {},
     "output_type": "display_data"
    }
   ],
   "source": [
    "from vpython import *\n",
    "import ode\n",
    "import numpy as np\n",
    "import matplotlib.pyplot as plt"
   ]
  },
  {
   "cell_type": "markdown",
   "metadata": {},
   "source": [
    "## Relevent Background:\n",
    "To begin with our project Michael and I first had to find the correct equations that we could implement into our code. We began by googling and found a website that had a simulation of a double pendulum with proper equations. The website was https://www.myphysicslab.com/pendulum/double-pendulum-en.html and from there we got our numerical equations. "
   ]
  },
  {
   "cell_type": "markdown",
   "metadata": {},
   "source": [
    "## Equations used:\n",
    "$ \\omega_1 $ = angular velocity <br>\n",
    "$ \\omega_2 $ = angular velocity <br>\n",
    "$ \\theta_1' = \\omega_1 $ <br>\n",
    "$ \\theta_2' = \\omega_2 $ <br>\n",
    "$ \\omega_1'= \\frac{-g(2m_1 + m_2)sin(\\theta_1 - 2\\theta_2) - 2sin(\\theta_1 - \\theta_2)m_2(\\omega_2^2L_2 + \\omega_1^2L_1cos(\\theta_1 - \\theta_2))}{L_1(2m_1 + m_2 - m_2cos(2\\theta_1 - 2\\theta_2))} $ <br>\n",
    "$\\omega_2'=\\frac{2sin(\\theta_1-\\theta_2)(\\omega_1^2L_1(m_1 + m_2)+ g(m_1 + m_2)cos\\theta_1 + \\omega_2^2L_2m_2cos(\\theta_1 - \\theta_2))}{L_2(2m_1 + m_2 - m_2cos(2\\theta_1 - 2\\theta_2))} $ <br>\n",
    "\n",
    "Both these equations are used for the Runge Kutta method."
   ]
  },
  {
   "cell_type": "markdown",
   "metadata": {},
   "source": [
    "## Question & Assumptions: \n",
    "\n",
    "Assumptions made were that this was closed system and that there was no friction in our system. This means that energy will be conserved and that there is no loss or gain of energy.\n",
    "\n",
    "Our question we wanted to answer was: How does changing the lengths and/or masses of each ball effect the chaotic motion of the double pendulum since the chaotic motion is very sensitive to the inital conditions."
   ]
  },
  {
   "cell_type": "markdown",
   "metadata": {},
   "source": [
    "# Code:"
   ]
  },
  {
   "cell_type": "code",
   "execution_count": 3,
   "metadata": {},
   "outputs": [],
   "source": [
    "def pendulum(dep, t):\n",
    "    \"\"\" Calculate and return the derivative [d/dt, d^2/dt^2] evaluated as a function of y, dy/dt, and t\n",
    "    where y is the dependent variable.\n",
    "    \n",
    "    Keyword arguments:\n",
    "    t -- time at the beginning of the time step\n",
    "    dep -- an array of the dependent variable and its derivative [y, dy/dt]_n at time t\n",
    "    \"\"\"    \n",
    "    \n",
    "    theta1 = dep[0]\n",
    "    omega1 = dep[1]\n",
    "    theta2 = dep[2]\n",
    "    omega2 = dep[3]\n",
    "   \n",
    "    deriv = np.zeros(4)\n",
    "    deriv[0] = omega1 #dtheta/dt\n",
    "    A1 = -g*(2*m1+m2)*np.sin(theta1)-m2*g*np.sin(theta1-2*theta2)\n",
    "    A2 = -2*np.sin(theta1-theta2)*m2*((omega2**2)*L2 + (omega1**2)*L1*np.cos(theta1-theta2))\n",
    "    A3 = L1*(2*m1+ m2 - m2*np.cos(2*theta1 - 2*theta2))\n",
    "    deriv[1] = (A1 + A2 )/ A3\n",
    "    \n",
    "    deriv[2] = omega2\n",
    "    B1 = 2*np.sin(theta1-theta2)*((omega1**2)*L1*(m1+m2) +g*(m1+m2)*np.cos(theta1) + (omega2**2)*L2*m2*np.cos(theta1-theta2))\n",
    "    B2 = L2*(2*m1 +m2 - m2*np.cos(2*theta1 - 2*theta2))\n",
    "    deriv[3] = (B1 / B2)\n",
    "    \n",
    "    return deriv\n",
    "\n",
    "g = 10\n",
    "L1 = 4\n",
    "L2 = 2\n",
    "m1 = 4\n",
    "m2 = 2\n",
    "\n",
    "\n",
    "#dependent variables\n",
    "theta1_0 = np.pi/2\n",
    "theta2_0 = 0\n",
    "omega1_0 = 0 #initial speed of theta1\n",
    "omega2_0 = 0\n",
    "\n",
    "data = np.array([theta1_0, omega1_0, theta2_0, omega2_0]) #initialize array to store dependent variables\n",
    "\n",
    "#independent variable\n",
    "t = 0\n",
    "h = 1e-4\n",
    "Nsteps = int(10/h) #N steps for T seconds of evolution\n",
    "\n",
    "#create arrays needed for plotting theta vs. t and omega vs. t\n",
    "tarr = np.zeros(Nsteps)\n",
    "theta1arr = np.zeros(Nsteps)\n",
    "theta2arr = np.zeros(Nsteps)\n",
    "\n",
    "omega1arr = np.zeros(Nsteps)\n",
    "omega2arr = np.zeros(Nsteps)\n",
    "\n",
    "tarr[0] = t\n",
    "theta1arr[0] = theta1_0\n",
    "theta2arr[0] = theta2_0\n",
    "\n",
    "omega1arr[0] = omega1_0\n",
    "omega2arr[0] = omega2_0\n",
    "\n",
    "#create a time evolution loop\n",
    "\n",
    "for n in range(1,Nsteps):\n",
    "    \n",
    "    data = ode.RK4(pendulum, data, t, h)\n",
    "  \n",
    "    t = t + h\n",
    "    \n",
    "    tarr[n] = t\n",
    "    theta1arr[n] = data[0]\n",
    "    omega1arr[n] = data[1]\n",
    "    theta2arr[n] = data[2]\n",
    "    omega2arr[n] = data[3]\n",
    "    \n",
    "    "
   ]
  },
  {
   "cell_type": "code",
   "execution_count": 4,
   "metadata": {},
   "outputs": [
    {
     "data": {
      "image/png": "[encoded data removed]",
      "text/plain": [
       "<Figure size 432x288 with 1 Axes>"
      ]
     },
     "metadata": {
      "needs_background": "light"
     },
     "output_type": "display_data"
    }
   ],
   "source": [
    "fig = plt.figure()\n",
    "plt.title(\"Pendulum\")\n",
    "plt.plot(tarr, theta1arr,'b-', label=' Theta1')\n",
    "plt.plot(tarr, theta2arr,'r-', label=' Theta2')\n",
    "plt.xlabel('t (s)')\n",
    "plt.ylabel('$v_y$ (m/s)')\n",
    "plt.legend()\n",
    "plt.show()\n"
   ]
  },
  {
   "cell_type": "markdown",
   "metadata": {},
   "source": [
    "### Example 1: \n",
    "$ L_1 = 4m, L_2 = 2m, m_1 = 4kg, m_2 = 2kg $ <br>\n",
    "This first example was set as a sort of control to our program and we used it to compare the rest of the examples. This is because the system itself is not very chaotic and the initial conditions are fairly similar to each other."
   ]
  },
  {
   "cell_type": "code",
   "execution_count": 6,
   "metadata": {},
   "outputs": [
    {
     "data": {
      "text/html": [
       "<div id=\"glowscript\" class=\"glowscript\"></div>"
      ],
      "text/plain": [
       "<IPython.core.display.HTML object>"
      ]
     },
     "metadata": {},
     "output_type": "display_data"
    },
    {
     "data": {
      "application/javascript": [
       "if (typeof Jupyter !== \"undefined\") { window.__context = { glowscript_container: $(\"#glowscript\").removeAttr(\"id\")};}else{ element.textContent = ' ';}"
      ],
      "text/plain": [
       "<IPython.core.display.Javascript object>"
      ]
     },
     "metadata": {},
     "output_type": "display_data"
    }
   ],
   "source": [
    "scene = canvas(title=\" Double Pendulum\")\n",
    "\n",
    "\n",
    "x1array = L1*np.sin(theta1arr)\n",
    "y1array = -L1*np.cos(theta1arr)\n",
    "\n",
    "\n",
    "x2array = x1array + L2*np.sin(theta2arr)\n",
    "y2array = y1array - L2*np.cos(theta2arr)\n",
    "\n",
    "\n",
    "ball1 = sphere(pos = vec(x1array[0],y1array[0],0), radius = L1*.10, make_trail = True)\n",
    "rod1 = cylinder(pos = vec(0,0,0),radius = L1*.025, axis = ball1.pos)\n",
    "\n",
    "ball2 = sphere(pos = vec(x2array[0],y2array[0],0), radius = L2*.10, make_trail = True, color = color.red)\n",
    "rod2 = cylinder(pos = ball1.pos ,radius = L2*.025, axis = ball2.pos - ball1.pos)\n",
    "\n",
    "\n",
    "scene.pause()\n",
    "\n",
    "for n in range(1,Nsteps):\n",
    "    rate(10000)\n",
    "    ball1.pos = vec(x1array[n],y1array[n],0)\n",
    "    rod1.axis = ball1.pos\n",
    "    \n",
    "    ball2.pos = vec(x2array[n],y2array[n],0)\n",
    "    rod2.pos = ball1.pos\n",
    "    rod2.axis = ball2.pos - ball1.pos\n",
    "    \n"
   ]
  },
  {
   "cell_type": "markdown",
   "metadata": {},
   "source": [
    "### Example 2:\n",
    "$ L1 = 10m, L2 = 2m, m_1 = 4kg, m_2 = 10kg $ <br>\n",
    "In this example making the first rod much longer than the second rod allows for not much of a chaotic behaviir for the tracking of the first ball. However, making the second balls mass much larger than the second allows for the second ball to have a much larger velocity and more chaotic behaviour in the graph."
   ]
  },
  {
   "cell_type": "code",
   "execution_count": 8,
   "metadata": {},
   "outputs": [],
   "source": [
    "g = 10\n",
    "L1 = 10\n",
    "L2 = 2\n",
    "m1 = 4\n",
    "m2 = 10\n",
    "\n",
    "\n",
    "#dependent variables\n",
    "theta1_0 = np.pi/2\n",
    "theta2_0 = 0\n",
    "omega1_0 = 0 #initial speed of theta1\n",
    "omega2_0 = 0\n",
    "\n",
    "data = np.array([theta1_0, omega1_0, theta2_0, omega2_0]) #initialize array to store dependent variables\n",
    "\n",
    "#independent variable\n",
    "t = 0\n",
    "h = 1e-4\n",
    "Nsteps = int(10/h) #N steps for T seconds of evolution\n",
    "\n",
    "#create arrays needed for plotting theta vs. t and omega vs. t\n",
    "tarr = np.zeros(Nsteps)\n",
    "theta1arr = np.zeros(Nsteps)\n",
    "theta2arr = np.zeros(Nsteps)\n",
    "\n",
    "omega1arr = np.zeros(Nsteps)\n",
    "omega2arr = np.zeros(Nsteps)\n",
    "\n",
    "tarr[0] = t\n",
    "theta1arr[0] = theta1_0\n",
    "theta2arr[0] = theta2_0\n",
    "\n",
    "omega1arr[0] = omega1_0\n",
    "omega2arr[0] = omega2_0\n",
    "\n",
    "#create a time evolution loop\n",
    "\n",
    "for n in range(1,Nsteps):\n",
    "    \n",
    "    data = ode.RK4(pendulum, data, t, h)\n",
    "  \n",
    "    t = t + h\n",
    "    \n",
    "    tarr[n] = t\n",
    "    theta1arr[n] = data[0]\n",
    "    omega1arr[n] = data[1]\n",
    "    theta2arr[n] = data[2]\n",
    "    omega2arr[n] = data[3]"
   ]
  },
  {
   "cell_type": "code",
   "execution_count": 9,
   "metadata": {},
   "outputs": [
    {
     "data": {
      "image/png": "[encoded data removed]",
      "text/plain": [
       "<Figure size 432x288 with 1 Axes>"
      ]
     },
     "metadata": {
      "needs_background": "light"
     },
     "output_type": "display_data"
    }
   ],
   "source": [
    "fig = plt.figure()\n",
    "plt.title(\"Pendulum\")\n",
    "plt.plot(tarr, theta1arr,'b-', label=' Theta1')\n",
    "plt.plot(tarr, theta2arr,'r-', label=' Theta2')\n",
    "plt.xlabel('t (s)')\n",
    "plt.ylabel('$v_y$ (m/s)')\n",
    "plt.legend()\n",
    "plt.show()"
   ]
  },
  {
   "cell_type": "code",
   "execution_count": 22,
   "metadata": {},
   "outputs": [
    {
     "data": {
      "text/html": [
       "<div id=\"glowscript\" class=\"glowscript\"></div>"
      ],
      "text/plain": [
       "<IPython.core.display.HTML object>"
      ]
     },
     "metadata": {},
     "output_type": "display_data"
    },
    {
     "data": {
      "application/javascript": [
       "if (typeof Jupyter !== \"undefined\") { window.__context = { glowscript_container: $(\"#glowscript\").removeAttr(\"id\")};}else{ element.textContent = ' ';}"
      ],
      "text/plain": [
       "<IPython.core.display.Javascript object>"
      ]
     },
     "metadata": {},
     "output_type": "display_data"
    }
   ],
   "source": [
    "scene = canvas(title=\"Double Pendulum\")\n",
    "\n",
    "\n",
    "x1array = L1*np.sin(theta1arr)\n",
    "y1array = -L1*np.cos(theta1arr)\n",
    "\n",
    "\n",
    "x2array = x1array + L2*np.sin(theta2arr)\n",
    "y2array = y1array - L2*np.cos(theta2arr)\n",
    "\n",
    "\n",
    "ball1 = sphere(pos = vec(x1array[0],y1array[0],0), radius = L1/40, make_trail = True)\n",
    "rod1 = cylinder(pos = vec(0,0,0),radius = L1*.010, axis = ball1.pos)\n",
    "\n",
    "ball2 = sphere(pos = vec(x2array[0],y2array[0],0), radius = L2*.20, make_trail = True, color = color.red)\n",
    "rod2 = cylinder(pos = ball1.pos ,radius = L2*.025, axis = ball2.pos - ball1.pos)\n",
    "\n",
    "\n",
    "scene.pause()\n",
    "\n",
    "for n in range(1,Nsteps):\n",
    "    rate(10000)\n",
    "    ball1.pos = vec(x1array[n],y1array[n],0)\n",
    "    rod1.axis = ball1.pos\n",
    "    \n",
    "    ball2.pos = vec(x2array[n],y2array[n],0)\n",
    "    rod2.pos = ball1.pos\n",
    "    rod2.axis = ball2.pos - ball1.pos"
   ]
  },
  {
   "cell_type": "markdown",
   "metadata": {},
   "source": [
    "### Example 3: \n",
    "$ L_1 = 2m, L_2 = 10m, m_1 = 10kg, m_2 = 4kg $ <br>\n",
    "Reversing the data from the previous example causes the system to be anything but chaotic and exhibits very predictable behavoir. This is especially seen in the graph. "
   ]
  },
  {
   "cell_type": "code",
   "execution_count": 24,
   "metadata": {},
   "outputs": [],
   "source": [
    "g = 10\n",
    "L1 = 2\n",
    "L2 = 10\n",
    "m1 = 10\n",
    "m2 = 4\n",
    "\n",
    "\n",
    "#dependent variables\n",
    "theta1_0 = np.pi/2\n",
    "theta2_0 = 0\n",
    "omega1_0 = 0 #initial speed of theta1\n",
    "omega2_0 = 0\n",
    "\n",
    "data = np.array([theta1_0, omega1_0, theta2_0, omega2_0]) #initialize array to store dependent variables\n",
    "\n",
    "#independent variable\n",
    "t = 0\n",
    "h = 1e-4\n",
    "Nsteps = int(10/h) #N steps for T seconds of evolution\n",
    "\n",
    "#create arrays needed for plotting theta vs. t and omega vs. t\n",
    "tarr = np.zeros(Nsteps)\n",
    "theta1arr = np.zeros(Nsteps)\n",
    "theta2arr = np.zeros(Nsteps)\n",
    "\n",
    "omega1arr = np.zeros(Nsteps)\n",
    "omega2arr = np.zeros(Nsteps)\n",
    "\n",
    "tarr[0] = t\n",
    "theta1arr[0] = theta1_0\n",
    "theta2arr[0] = theta2_0\n",
    "\n",
    "omega1arr[0] = omega1_0\n",
    "omega2arr[0] = omega2_0\n",
    "\n",
    "#create a time evolution loop\n",
    "\n",
    "for n in range(1,Nsteps):\n",
    "    \n",
    "    data = ode.RK4(pendulum, data, t, h)\n",
    "  \n",
    "    t = t + h\n",
    "    \n",
    "    tarr[n] = t\n",
    "    theta1arr[n] = data[0]\n",
    "    omega1arr[n] = data[1]\n",
    "    theta2arr[n] = data[2]\n",
    "    omega2arr[n] = data[3]"
   ]
  },
  {
   "cell_type": "code",
   "execution_count": 25,
   "metadata": {},
   "outputs": [
    {
     "data": {
      "image/png": "[encoded data removed]",
      "text/plain": [
       "<Figure size 432x288 with 1 Axes>"
      ]
     },
     "metadata": {
      "needs_background": "light"
     },
     "output_type": "display_data"
    }
   ],
   "source": [
    "fig = plt.figure()\n",
    "plt.title(\"Pendulum\")\n",
    "plt.plot(tarr, theta1arr,'b-', label=' Theta1')\n",
    "plt.plot(tarr, theta2arr,'r-', label=' Theta2')\n",
    "plt.xlabel('t (s)')\n",
    "plt.ylabel('$v_y$ (m/s)')\n",
    "plt.legend()\n",
    "plt.show()"
   ]
  },
  {
   "cell_type": "code",
   "execution_count": 30,
   "metadata": {},
   "outputs": [
    {
     "data": {
      "text/html": [
       "<div id=\"glowscript\" class=\"glowscript\"></div>"
      ],
      "text/plain": [
       "<IPython.core.display.HTML object>"
      ]
     },
     "metadata": {},
     "output_type": "display_data"
    },
    {
     "data": {
      "application/javascript": [
       "if (typeof Jupyter !== \"undefined\") { window.__context = { glowscript_container: $(\"#glowscript\").removeAttr(\"id\")};}else{ element.textContent = ' ';}"
      ],
      "text/plain": [
       "<IPython.core.display.Javascript object>"
      ]
     },
     "metadata": {},
     "output_type": "display_data"
    }
   ],
   "source": [
    "scene = canvas(title=\"Double Pendulum\")\n",
    "\n",
    "\n",
    "x1array = L1*np.sin(theta1arr)\n",
    "y1array = -L1*np.cos(theta1arr)\n",
    "\n",
    "\n",
    "x2array = x1array + L2*np.sin(theta2arr)\n",
    "y2array = y1array - L2*np.cos(theta2arr)\n",
    "\n",
    "\n",
    "ball1 = sphere(pos = vec(x1array[0],y1array[0],0), radius = L1*.30, make_trail = True)\n",
    "rod1 = cylinder(pos = vec(0,0,0),radius = L1*.025, axis = ball1.pos)\n",
    "\n",
    "ball2 = sphere(pos = vec(x2array[0],y2array[0],0), radius = L2/30, make_trail = True, color = color.red)\n",
    "rod2 = cylinder(pos = ball1.pos ,radius = L2*.010, axis = ball2.pos - ball1.pos)\n",
    "\n",
    "\n",
    "scene.pause()\n",
    "\n",
    "for n in range(1,Nsteps):\n",
    "    rate(10000)\n",
    "    ball1.pos = vec(x1array[n],y1array[n],0)\n",
    "    rod1.axis = ball1.pos\n",
    "    \n",
    "    ball2.pos = vec(x2array[n],y2array[n],0)\n",
    "    rod2.pos = ball1.pos\n",
    "    rod2.axis = ball2.pos - ball1.pos"
   ]
  },
  {
   "cell_type": "markdown",
   "metadata": {},
   "source": [
    "## Validation: \n",
    "To validate that our program works and that there are no errors in the code, the best thing to do would allow our program to run for a large amount of time to test it's limits. This can be seen below in the program using our data from Example #1. However, if there errors they will most likely be numerical for the calculations to update $\\theta$ and $\\omega$. This program below shows a very accurate depiction of chaotic motion which tells us that our program is accurate and reliable. <p><img src=\"https://upload.wikimedia.org/wikipedia/commons/7/77/DPLE.jpg\" alt=\"Alt Text\" title=\"Long Exposure of a Double Pendulum using LED tracking \"></p>"
   ]
  },
  {
   "cell_type": "code",
   "execution_count": 31,
   "metadata": {},
   "outputs": [],
   "source": [
    "g = 10\n",
    "L1 = 4\n",
    "L2 = 2\n",
    "m1 = 4\n",
    "m2 = 2\n",
    "\n",
    "\n",
    "#dependent variables\n",
    "theta1_0 = np.pi/2\n",
    "theta2_0 = 0\n",
    "omega1_0 = 0 #initial speed of theta1\n",
    "omega2_0 = 0\n",
    "\n",
    "data = np.array([theta1_0, omega1_0, theta2_0, omega2_0]) #initialize array to store dependent variables\n",
    "\n",
    "#independent variable\n",
    "t = 0\n",
    "h = 1e-4\n",
    "Nsteps = int(50/h) #N steps for T seconds of evolution\n",
    "\n",
    "#create arrays needed for plotting theta vs. t and omega vs. t\n",
    "tarr = np.zeros(Nsteps)\n",
    "theta1arr = np.zeros(Nsteps)\n",
    "theta2arr = np.zeros(Nsteps)\n",
    "\n",
    "omega1arr = np.zeros(Nsteps)\n",
    "omega2arr = np.zeros(Nsteps)\n",
    "\n",
    "tarr[0] = t\n",
    "theta1arr[0] = theta1_0\n",
    "theta2arr[0] = theta2_0\n",
    "\n",
    "omega1arr[0] = omega1_0\n",
    "omega2arr[0] = omega2_0\n",
    "\n",
    "#create a time evolution loop\n",
    "\n",
    "for n in range(1,Nsteps):\n",
    "    \n",
    "    data = ode.RK4(pendulum, data, t, h)\n",
    "  \n",
    "    t = t + h\n",
    "    \n",
    "    tarr[n] = t\n",
    "    theta1arr[n] = data[0]\n",
    "    omega1arr[n] = data[1]\n",
    "    theta2arr[n] = data[2]\n",
    "    omega2arr[n] = data[3]"
   ]
  },
  {
   "cell_type": "code",
   "execution_count": 32,
   "metadata": {},
   "outputs": [
    {
     "name": "stderr",
     "output_type": "stream",
     "text": [
      "/opt/anaconda3/lib/python3.7/site-packages/IPython/core/pylabtools.py:128: UserWarning: Creating legend with loc=\"best\" can be slow with large amounts of data.\n",
      "  fig.canvas.print_figure(bytes_io, **kw)\n"
     ]
    },
    {
     "data": {
      "image/png": "[encoded data removed]",
      "text/plain": [
       "<Figure size 432x288 with 1 Axes>"
      ]
     },
     "metadata": {
      "needs_background": "light"
     },
     "output_type": "display_data"
    }
   ],
   "source": [
    "fig = plt.figure()\n",
    "plt.title(\"Pendulum\")\n",
    "plt.plot(tarr, theta1arr,'b-', label=' Theta1')\n",
    "plt.plot(tarr, theta2arr,'r-', label=' Theta2')\n",
    "plt.xlabel('t (s)')\n",
    "plt.ylabel('$v_y$ (m/s)')\n",
    "plt.legend()\n",
    "plt.show()"
   ]
  },
  {
   "cell_type": "code",
   "execution_count": 34,
   "metadata": {},
   "outputs": [
    {
     "data": {
      "text/html": [
       "<div id=\"glowscript\" class=\"glowscript\"></div>"
      ],
      "text/plain": [
       "<IPython.core.display.HTML object>"
      ]
     },
     "metadata": {},
     "output_type": "display_data"
    },
    {
     "data": {
      "application/javascript": [
       "if (typeof Jupyter !== \"undefined\") { window.__context = { glowscript_container: $(\"#glowscript\").removeAttr(\"id\")};}else{ element.textContent = ' ';}"
      ],
      "text/plain": [
       "<IPython.core.display.Javascript object>"
      ]
     },
     "metadata": {},
     "output_type": "display_data"
    }
   ],
   "source": [
    "scene = canvas(title=\"Double Pendulum\")\n",
    "\n",
    "\n",
    "x1array = L1*np.sin(theta1arr)\n",
    "y1array = -L1*np.cos(theta1arr)\n",
    "\n",
    "\n",
    "x2array = x1array + L2*np.sin(theta2arr)\n",
    "y2array = y1array - L2*np.cos(theta2arr)\n",
    "\n",
    "\n",
    "ball1 = sphere(pos = vec(x1array[0],y1array[0],0), radius = L1*.10, make_trail = True)\n",
    "rod1 = cylinder(pos = vec(0,0,0),radius = L1*.025, axis = ball1.pos)\n",
    "\n",
    "ball2 = sphere(pos = vec(x2array[0],y2array[0],0), radius = L2*.10, make_trail = True, color = color.red)\n",
    "rod2 = cylinder(pos = ball1.pos ,radius = L2*.025, axis = ball2.pos - ball1.pos)\n",
    "\n",
    "\n",
    "scene.pause()\n",
    "\n",
    "for n in range(1,Nsteps):\n",
    "    rate(10000)\n",
    "    ball1.pos = vec(x1array[n],y1array[n],0)\n",
    "    rod1.axis = ball1.pos\n",
    "    \n",
    "    ball2.pos = vec(x2array[n],y2array[n],0)\n",
    "    rod2.pos = ball1.pos\n",
    "    rod2.axis = ball2.pos - ball1.pos"
   ]
  },
  {
   "cell_type": "markdown",
   "metadata": {},
   "source": []
  },
  {
   "cell_type": "code",
   "execution_count": null,
   "metadata": {},
   "outputs": [],
   "source": []
  }
 ],
 "metadata": {
  "kernelspec": {
   "display_name": "Python 3",
   "language": "python",
   "name": "python3"
  },
  "language_info": {
   "codemirror_mode": {
    "name": "ipython",
    "version": 3
   },
   "file_extension": ".py",
   "mimetype": "text/x-python",
   "name": "python",
   "nbconvert_exporter": "python",
   "pygments_lexer": "ipython3",
   "version": "3.7.4"
  }
 },
 "nbformat": 4,
 "nbformat_minor": 2
}
