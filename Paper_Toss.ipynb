{
 "cells": [
  {
   "cell_type": "markdown",
   "metadata": {},
   "source": [
    "# Paper Toss Clone"
   ]
  },
  {
   "cell_type": "markdown",
   "metadata": {},
   "source": [
    "## Background"
   ]
  },
  {
   "cell_type": "markdown",
   "metadata": {},
   "source": [
    "This code was based off of the IOS game Paper Toss where the objective of the game was to throw a paper ball into a trash can with a fan blowing wind left or right and the speed of the wind was given to the player."
   ]
  },
  {
   "cell_type": "markdown",
   "metadata": {},
   "source": [
    "## Equations used:"
   ]
  },
  {
   "cell_type": "markdown",
   "metadata": {},
   "source": [
    "$$\\frac{dx}{dt} = v_x \\qquad \\frac{dy}{dt} = v_y \\qquad \\frac{dz}{dt} = v_z$$\n",
    "\n",
    "$$\\frac{d v_x}{dt} = \\frac{F_{net,x}}{m} \\qquad \\frac{d v_y}{dt} = \\frac{F_{net,y}}{m} \\qquad \\frac{d v_y}{dt} = \\frac{F_{net,y}}{m}$$\n",
    "\n",
    "Used to find the motion of the ball where Fnet is the sum of all forces"
   ]
  },
  {
   "cell_type": "markdown",
   "metadata": {},
   "source": [
    "Intertial Drag: $$\\vec{F}_2 = -\\frac{1}{2}C_d \\rho A v^2 \\hat{v}$$\n",
    "\n",
    "where $C_d$ is the drag coefficient, $\\rho$ is the density of the fluid, and $A$ is the cross-sectional area of the object.\n"
   ]
  },
  {
   "cell_type": "markdown",
   "metadata": {},
   "source": [
    "Used to find the total Force of a sphere traveling through air: $$\\vec{F}_d = -b_1|\\vec{v}|\\hat{v} + -b_2|\\vec{v}|^2\\hat{v} + \\cdots$$\n",
    "\n",
    "We can neglect higher order terms."
   ]
  },
  {
   "cell_type": "markdown",
   "metadata": {},
   "source": [
    "## My Version"
   ]
  },
  {
   "cell_type": "markdown",
   "metadata": {},
   "source": [
    "After watching mulitple videos of the game and playing the game myself when I was younger I realized that the player could not throw the ball faster which meant that the velocity for the ball is fixed and that it never changes. However, the only variables that do change in the game are the angle at which the player throws the ball by swiping with their finger and the speed and direction that the fan blows. Because I realized this, all I had to do was create functions to input a random wind in a direction and prompt the user to enter a angle to throw the ball. I also had to use a function from previous code and calculate the variable drag of the ball including gravity and the wind."
   ]
  },
  {
   "cell_type": "markdown",
   "metadata": {},
   "source": [
    "## Assumptions: \n",
    "- Values used in program such as inital speed, wind speed, travel distance, and the size of the 'trash can' are scaled to work with the simulation."
   ]
  },
  {
   "cell_type": "markdown",
   "metadata": {},
   "source": [
    "# Code:"
   ]
  },
  {
   "cell_type": "code",
   "execution_count": 1,
   "metadata": {},
   "outputs": [
    {
     "data": {
      "text/html": [
       "<div id=\"glowscript\" class=\"glowscript\"></div>"
      ],
      "text/plain": [
       "<IPython.core.display.HTML object>"
      ]
     },
     "metadata": {},
     "output_type": "display_data"
    },
    {
     "data": {
      "application/javascript": [
       "if (typeof Jupyter !== \"undefined\") { window.__context = { glowscript_container: $(\"#glowscript\").removeAttr(\"id\")};}else{ element.textContent = ' ';}"
      ],
      "text/plain": [
       "<IPython.core.display.Javascript object>"
      ]
     },
     "metadata": {},
     "output_type": "display_data"
    }
   ],
   "source": [
    "import ode #ode.py should be in the same folder as your notebook\n",
    "import numpy as np\n",
    "import matplotlib.pyplot as plt\n",
    "import random as rand\n",
    "from vpython import *"
   ]
  },
  {
   "cell_type": "code",
   "execution_count": 2,
   "metadata": {},
   "outputs": [],
   "source": [
    "\n",
    "g = 9.8 #N/kg\n",
    "\n",
    "rho = 1.2 #kg/m^3\n",
    "\n",
    "mu = 1.8e-5 #kg/m/s\n",
    "\n",
    "r = 74e-3/2 #74 mm diameter, 9.25\" in circumference\n",
    "\n",
    "A = np.pi*r**2 #cross-sectional area\n",
    "\n",
    "Cd = 0.47 #actually depends on speed\n",
    "\n",
    "m = 0.1 #kg\n",
    "\n",
    "b2 = 1/2*Cd*rho*A"
   ]
  },
  {
   "cell_type": "code",
   "execution_count": 3,
   "metadata": {},
   "outputs": [],
   "source": [
    "def quaddrag(d, t):\n",
    "    global v,vxwind,vywind,vzwind, vxquad,vyquad,vzquad\n",
    "    \"\"\" Calculate and return the derivative of each quantity in an array d at the time t.\n",
    "    \n",
    "    Keyword arguments:\n",
    "    t -- time at the beginning of the time step\n",
    "    d -- an array of variables at time t\n",
    "    \"\"\"\n",
    "    \n",
    "    x = d[0]\n",
    "    y = d[1]\n",
    "    z = d[2]\n",
    "    vx = d[3]\n",
    "    vy = d[4]\n",
    "    vz = d[5]\n",
    "    \n",
    "    dxdt = vx \n",
    "    dydt = vy\n",
    "    dzdt = vz\n",
    "\n",
    "    \n",
    "    vxquad = vx - vxwind\n",
    "    vyquad = vy - vywind\n",
    "    vzquad = vz - vzwind\n",
    "    \n",
    "    \n",
    "    v = np.sqrt(vxquad**2 + vyquad**2 + vzquad**2)\n",
    "    \n",
    "    #drag components:\n",
    "    a = 0.36\n",
    "    b = 0.14\n",
    "    c = 0.27\n",
    "    vc = 34\n",
    "    chi = (v-vc)/4\n",
    "    \n",
    "    \n",
    "    if chi < 0:\n",
    "        Cd = a + b/(1+np.exp(chi)) - c*np.exp(-chi**2)\n",
    "    else:\n",
    "        Cd = a + b/(1+np.exp(chi)) - c*np.exp(-chi**2/4)\n",
    "        \n",
    "    b2 = 1/2*Cd*rho*A\n",
    "    \n",
    "    Fdragx = -b2*v**2*vxquad/v\n",
    "    Fdragy = -b2*v**2*vyquad/v\n",
    "    Fdragz = -b2*v**2*vzquad/v\n",
    "    \n",
    "    Fgravy = -m*g\n",
    "    \n",
    "    Fnetx = Fdragx\n",
    "    Fnety = Fgravy + Fdragy \n",
    "    Fnetz = Fdragz\n",
    "    \n",
    "    dvxdt = Fnetx/m\n",
    "    dvydt = Fnety/m\n",
    "    dvzdt = Fnetz/m\n",
    "    \n",
    "    derivs = np.array([dxdt,dydt,dzdt, dvxdt, dvydt,dvzdt])\n",
    "    \n",
    "    return derivs"
   ]
  },
  {
   "cell_type": "markdown",
   "metadata": {},
   "source": [
    "The function titled \"quaddrag\" calculates the total drag using all of the forces possible for the motion of a sphere. Without the calculations of drag being added into the simulation the ball would fly much further than expected and therefore would not display the desired results that you would normally want in a realistic video game. "
   ]
  },
  {
   "cell_type": "code",
   "execution_count": 8,
   "metadata": {},
   "outputs": [],
   "source": [
    "#CONSTANTS\n",
    "def math(phideg):\n",
    "    global b2,m,g,r\n",
    "\n",
    "\n",
    "    g = 9.8 #N/kg\n",
    "    \n",
    "    rho = 1.2 #kg/m^3\n",
    "    \n",
    "    mu = 1.8e-5 #kg/m/s\n",
    "    \n",
    "    r = 74e-3/2 #74 mm diameter, 9.25\" in circumference\n",
    "    \n",
    "    A = np.pi*r**2 #cross-sectional area\n",
    "    \n",
    "    Cd = 0.47 #actually depends on speed\n",
    "    \n",
    "    m = 0.1 #kg\n",
    "    \n",
    "    b2 = 1/2*Cd*rho*A\n",
    "\n",
    "\n",
    "    vmag0mph = 25 #inital speed, does not change\n",
    "    thetadeg = 60 #pre defined angle(deg)\n",
    "\n",
    "    vmag0 = vmag0mph*0.44704 #convert mph to m/s\n",
    "    theta = thetadeg*np.pi/180 #convert deg to rad\n",
    "     #Inital angle paper is thrown(USER INPUT)\n",
    "\n",
    "    phi = phideg*np.pi/180#deg --> radians\n",
    "\n",
    "    #inital components \n",
    "    x = 0\n",
    "    y = 0\n",
    "    z = 0\n",
    "\n",
    "    vy = vmag0*np.sin(theta)\n",
    "    vx = vmag0*np.cos(theta)*np.sin(phi)\n",
    "    vz = -vmag0*np.cos(theta)*np.cos(phi)\n",
    "\n",
    "\n",
    "    t = 0\n",
    "    h = 1e-4\n",
    "\n",
    "\n",
    "    # create array:\n",
    "    data = np.array([x, y , z, vx, vy, vz])\n",
    "\n",
    "    #create list:\n",
    "    xlist=[]\n",
    "    ylist=[]\n",
    "    zlist=[]\n",
    "    tlist=[]\n",
    "\n",
    "    #append list:\n",
    "    xlist.append(x)\n",
    "    ylist.append(y)\n",
    "    zlist.append(z)\n",
    "    tlist.append(t)\n",
    "\n",
    "    while y >= 0:\n",
    "\n",
    "        data = ode.RK4(quaddrag, data, t, h)\n",
    "        t = t + h\n",
    "\n",
    "        x = data[0]\n",
    "        y = data[1]\n",
    "        z = data[2]\n",
    "\n",
    "        tlist.append(t)\n",
    "        xlist.append(x)\n",
    "        ylist.append(y)\n",
    "        zlist.append(z)\n",
    "    #print(\"total drag\", np.sqrt(xlist[-1]**2+ylist[-1]**2+zlist[-1]**2))\n",
    "    return xlist, ylist, zlist"
   ]
  },
  {
   "cell_type": "markdown",
   "metadata": {},
   "source": [
    "The function titled \"math\" calulcates the toal drag and returns the lists used to properlly simulate the flight of the ball while taking into account the wind and gravity."
   ]
  },
  {
   "cell_type": "code",
   "execution_count": 9,
   "metadata": {},
   "outputs": [],
   "source": [
    "def wind():\n",
    "    num = int(np.random.uniform(1,140))\n",
    "    if num < 25 and num>0:\n",
    "        wind = 10\n",
    "    elif num>25 and num<50:\n",
    "        wind = -10\n",
    "    elif num > 50 and num < 100:\n",
    "        wind = 5\n",
    "    elif num > 80 and num < 100:\n",
    "        wind = -5\n",
    "    elif num >100 and num < 120:\n",
    "        wind = 7\n",
    "    elif num > 120 and num < 140:\n",
    "        wind = -7\n",
    "    return wind"
   ]
  },
  {
   "cell_type": "markdown",
   "metadata": {},
   "source": [
    "The function titled \"wind\" is used to pick a random number from 1-140 and uses \"if\", \"else\" to return a velocity for wind depending on what number is chosen from 1-140"
   ]
  },
  {
   "cell_type": "code",
   "execution_count": 10,
   "metadata": {},
   "outputs": [],
   "source": [
    "def animate():\n",
    "    global vxwind,vywind,vzwind\n",
    "    scene = canvas(title = \"Paper Toss\")\n",
    "    \n",
    "    winddir = wind()\n",
    "    \n",
    "    vxwind = winddir\n",
    "    vywind = 0\n",
    "    vzwind = 0\n",
    "    windvec = vec(vxwind,vywind,vzwind)\n",
    "    R = 1 #radius of ring\n",
    "    r = R/3 #radius of ball\n",
    "\n",
    "    m = 0.1\n",
    "    \n",
    "    circ = ring(pos=vec(0,0,-9), axis=vec(0,6,0), radius=R, thickness=R/10, color=color.orange, opacity=0.5)\n",
    "\n",
    "    ball = sphere(pos = vec(0,0,0), radius = r, color=color.magenta, make_trail= True)\n",
    "    \n",
    "    point = False\n",
    "\n",
    "    while(point == False):\n",
    "        scene.pause()\n",
    "        print(\"wind direction(+,-), speed(m/s):\", winddir)\n",
    "        angle = int(input(\"Enter your angle:\"))\n",
    "        bx, by, bz = math(angle)\n",
    "        size = np.size(by)\n",
    "\n",
    "\n",
    "        for n in range(1,size):\n",
    "            rate(6000)\n",
    "            ball.pos=vec(bx[n],by[n],bz[n])\n",
    "            ds = np.sqrt((bx[n]-circ.pos.x)**2+(bz[n]-circ.pos.z)**2)\n",
    "            if ds < R:\n",
    "                point = True\n",
    "        if point == True:\n",
    "            print(\"score\")\n",
    "        else:\n",
    "            print(\"try again\")"
   ]
  },
  {
   "cell_type": "markdown",
   "metadata": {},
   "source": [
    "The function titled \"animate\" is the main function of the entire code and uses all of the functions above to simulate the game itself. I also integrated a while loop to keep the game going until the player can pick the correct angle to score a point. Once the player succesfully scores a point the game ends and they must re-run the code to play once again."
   ]
  },
  {
   "cell_type": "markdown",
   "metadata": {},
   "source": [
    "# Directions: \n",
    "once prompted with a wind direction($'+'$ meaning to the right and $'-'$ meaning to the left) input a the angle at which you would like the ball to be thrown, again $'-'$ meaning to the left and $'+'$ meaning to the right."
   ]
  },
  {
   "cell_type": "code",
   "execution_count": 11,
   "metadata": {
    "scrolled": false
   },
   "outputs": [
    {
     "data": {
      "text/html": [
       "<div id=\"glowscript\" class=\"glowscript\"></div>"
      ],
      "text/plain": [
       "<IPython.core.display.HTML object>"
      ]
     },
     "metadata": {},
     "output_type": "display_data"
    },
    {
     "data": {
      "application/javascript": [
       "if (typeof Jupyter !== \"undefined\") { window.__context = { glowscript_container: $(\"#glowscript\").removeAttr(\"id\")};}else{ element.textContent = ' ';}"
      ],
      "text/plain": [
       "<IPython.core.display.Javascript object>"
      ]
     },
     "metadata": {},
     "output_type": "display_data"
    },
    {
     "name": "stdout",
     "output_type": "stream",
     "text": [
      "wind direction(+,-), speed(m/s): 5\n",
      "Enter your angle:-10\n",
      "score\n"
     ]
    }
   ],
   "source": [
    "animate()"
   ]
  },
  {
   "cell_type": "markdown",
   "metadata": {},
   "source": [
    "## Conclusion:"
   ]
  },
  {
   "cell_type": "markdown",
   "metadata": {},
   "source": [
    "Overall, my version of paper toss is a much more realistic version because it takes into account the drag of the sphere and would preform more like how it would work in real life. The version on the IOS does not take drag forces into account."
   ]
  }
 ],
 "metadata": {
  "kernelspec": {
   "display_name": "Python 3",
   "language": "python",
   "name": "python3"
  },
  "language_info": {
   "codemirror_mode": {
    "name": "ipython",
    "version": 3
   },
   "file_extension": ".py",
   "mimetype": "text/x-python",
   "name": "python",
   "nbconvert_exporter": "python",
   "pygments_lexer": "ipython3",
   "version": "3.7.4"
  }
 },
 "nbformat": 4,
 "nbformat_minor": 2
}
